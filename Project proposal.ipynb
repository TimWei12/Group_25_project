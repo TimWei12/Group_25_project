{
 "cells": [
  {
   "cell_type": "markdown",
   "id": "7438e3c6-5c44-4be9-8974-4f1d4f2bf008",
   "metadata": {},
   "source": [
    "*Here we start our code*"
   ]
  },
  {
   "cell_type": "code",
   "execution_count": null,
   "id": "9e27cf96-bf4f-4d5c-8c27-bdc4fe88fba2",
   "metadata": {},
   "outputs": [],
   "source": []
  }
 ],
 "metadata": {
  "kernelspec": {
   "display_name": "R",
   "language": "R",
   "name": "ir"
  },
  "language_info": {
   "codemirror_mode": "r",
   "file_extension": ".r",
   "mimetype": "text/x-r-source",
   "name": "R",
   "pygments_lexer": "r",
   "version": "4.2.2"
  }
 },
 "nbformat": 4,
 "nbformat_minor": 5
}
